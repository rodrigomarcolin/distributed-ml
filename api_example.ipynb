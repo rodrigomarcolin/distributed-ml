{
 "cells": [
  {
   "cell_type": "code",
   "execution_count": null,
   "id": "10c984cf",
   "metadata": {},
   "outputs": [],
   "source": [
    "import requests\n",
    "import json\n",
    "\n",
    "CHAVE_CLIENTE = ''\n",
    "codigo_tarefa = ''"
   ]
  },
  {
   "cell_type": "markdown",
   "id": "765766f8",
   "metadata": {},
   "source": [
    "## Atribuir Parâmetros"
   ]
  },
  {
   "cell_type": "code",
   "execution_count": 6,
   "id": "dc462916",
   "metadata": {},
   "outputs": [
    {
     "name": "stdout",
     "output_type": "stream",
     "text": [
      "Parâmetros atribuídos com sucesso: [{'id': 'a6feb88f-7a79-4a47-b4f5-38903af10339', 'data_atribuicao': '2023-09-28T20:31:18.658281Z', 'valor': {'data': '2018-04-11'}, 'tarefa': '942aee5c-12f8-4f0d-a510-189d42584e7c', 'cliente': 2, 'resultado_associado': None}, {'id': '8985d5b4-7cc3-4f49-be18-eccd83c46642', 'data_atribuicao': '2023-09-28T20:31:18.663519Z', 'valor': {'data': '2018-04-12'}, 'tarefa': '942aee5c-12f8-4f0d-a510-189d42584e7c', 'cliente': 2, 'resultado_associado': None}] ...\n"
     ]
    }
   ],
   "source": [
    "url = f\"http://127.0.0.1:8000/tasks/atribuir-parametros/{codigo_tarefa}/\" \n",
    "\n",
    "data = {\"cliente_key\": CHAVE_CLIENTE}\n",
    "\n",
    "response = requests.post(\n",
    "    url, data=json.dumps(data), headers={\"Content-Type\": \"application/json\"}\n",
    ")\n",
    "\n",
    "if response.status_code == 200:\n",
    "    parametros = response.json()\n",
    "    print(\"Parâmetros atribuídos com sucesso:\", parametros[:2], '...')\n",
    "elif response.status_code == 404:\n",
    "    print(\"Tarefa ou cliente não encontrados.\")\n",
    "else:\n",
    "    print(\"Erro desconhecido:\", response.status_code, response.text)"
   ]
  },
  {
   "cell_type": "code",
   "execution_count": 7,
   "id": "92cd74a2",
   "metadata": {},
   "outputs": [
    {
     "data": {
      "text/plain": [
       "[{'id': 'a6feb88f-7a79-4a47-b4f5-38903af10339',\n",
       "  'data_atribuicao': '2023-09-28T20:31:18.658281Z',\n",
       "  'valor': {'data': '2018-04-11'},\n",
       "  'tarefa': '942aee5c-12f8-4f0d-a510-189d42584e7c',\n",
       "  'cliente': 2,\n",
       "  'resultado_associado': None},\n",
       " {'id': '8985d5b4-7cc3-4f49-be18-eccd83c46642',\n",
       "  'data_atribuicao': '2023-09-28T20:31:18.663519Z',\n",
       "  'valor': {'data': '2018-04-12'},\n",
       "  'tarefa': '942aee5c-12f8-4f0d-a510-189d42584e7c',\n",
       "  'cliente': 2,\n",
       "  'resultado_associado': None}]"
      ]
     },
     "execution_count": 7,
     "metadata": {},
     "output_type": "execute_result"
    }
   ],
   "source": [
    "import random\n",
    "\n",
    "choices = list(range(-20, 20))\n",
    "def executa_computacao(parametro):\n",
    "    return random.choice(choices)\n",
    "\n",
    "\n",
    "resultados = []\n",
    "for param in parametros:\n",
    "    valor_param = param['valor']\n",
    "    r = executa_computacao(valor_param)\n",
    "    resultados.append({'parametro_id': param['id'], 'valor': {'retorno': r }})\n",
    "    \n",
    "resultados[:2]"
   ]
  },
  {
   "cell_type": "markdown",
   "id": "a41b8e2d",
   "metadata": {},
   "source": [
    "## Atualizar resultado"
   ]
  },
  {
   "cell_type": "code",
   "execution_count": 8,
   "id": "44daee77",
   "metadata": {},
   "outputs": [
    {
     "name": "stdout",
     "output_type": "stream",
     "text": [
      "Resultado atualizado com sucesso.\n"
     ]
    }
   ],
   "source": [
    "url = f'http://127.0.0.1:8000/tasks/atualizar-resultado/{codigo_tarefa}/'\n",
    "\n",
    "data = json.dumps({'resultados': resultados})\n",
    "response = requests.post(url, data=data, headers={'Content-Type': 'application/json'})\n",
    "\n",
    "if response.status_code == 200:\n",
    "    print(\"Resultado atualizado com sucesso.\")\n",
    "elif response.status_code == 404:\n",
    "    print(\"Parâmetro não encontrado.\")\n",
    "else:\n",
    "    print(\"Erro desconhecido:\", response.status_code, response.text)\n"
   ]
  },
  {
   "cell_type": "markdown",
   "id": "a5bdde15",
   "metadata": {},
   "source": [
    "## Criar Parâmetros"
   ]
  },
  {
   "cell_type": "code",
   "execution_count": null,
   "id": "aed66dd8",
   "metadata": {},
   "outputs": [],
   "source": [
    "url = f'http://127.0.0.1:8000/tasks/criar-parametros/{codigo_tarefa}/'\n",
    "\n",
    "# Dados a serem enviados na solicitação POST\n",
    "data = {\n",
    "    'data_inicio': '2013-09-27',\n",
    "    'data_fim': '2023-09-30',\n",
    "    'formato_data': '%Y-%m-%d',\n",
    "}\n",
    "\n",
    "# Enviar uma solicitação POST para criar os parâmetros\n",
    "response = requests.post(url, data=json.dumps(data), headers={'Content-Type': 'application/json'})\n",
    "\n",
    "# Verificar a resposta\n",
    "if response.status_code == 201:\n",
    "    parametros_criados = response.json()\n",
    "    print('Parâmetros criados com sucesso:')\n",
    "    for parametro in parametros_criados:\n",
    "        print(f'ID: {parametro[\"id\"]}, Valor: {parametro[\"valor\"]}')\n",
    "elif response.status_code == 404:\n",
    "    print('Tarefa não encontrada.')\n",
    "elif response.status_code == 400:\n",
    "    erro = response.json()\n",
    "    print(f'Erro: {erro[\"detail\"]}')\n",
    "else:\n",
    "    print('Ocorreu um erro inesperado na solicitação.')"
   ]
  },
  {
   "cell_type": "code",
   "execution_count": null,
   "id": "c168ce43",
   "metadata": {},
   "outputs": [],
   "source": []
  },
  {
   "cell_type": "code",
   "execution_count": null,
   "id": "627d2e47",
   "metadata": {},
   "outputs": [],
   "source": []
  }
 ],
 "metadata": {
  "kernelspec": {
   "display_name": "Python 3 (ipykernel)",
   "language": "python",
   "name": "python3"
  },
  "language_info": {
   "codemirror_mode": {
    "name": "ipython",
    "version": 3
   },
   "file_extension": ".py",
   "mimetype": "text/x-python",
   "name": "python",
   "nbconvert_exporter": "python",
   "pygments_lexer": "ipython3",
   "version": "3.10.12"
  }
 },
 "nbformat": 4,
 "nbformat_minor": 5
}
